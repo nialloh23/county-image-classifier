{
 "cells": [
  {
   "cell_type": "markdown",
   "metadata": {},
   "source": [
    "# 1.0 Introduction"
   ]
  },
  {
   "cell_type": "markdown",
   "metadata": {},
   "source": [
    "**1. Goal:** Predict which team a Irish Football player plays for (classes: Mayo, Galway, Kerry, Dublin)\n",
    "\n",
    "**2. Success Metric:** Accuracy\n",
    "\n",
    "**3. Success Metric:** Accuracy: 90%\n",
    "\n",
    "**4. ML Problem Type** Multiclass Classification (Single Label)\n",
    "\n",
    "**5. Define Dataset** X_train = (990 Images) (300px, 300px, 3 channels) y_train = (990 Labels) X_test = (176 Images) (300px, 300px, 3 channels) y_test =(176 Labels)\n",
    "\n",
    "**6. Data Source** Download from Github. Orginally scraped from Google Images.\n",
    "\n",
    "**7. Model Choices**\n",
    "Data (990 Images) (300px, 300px, 3 channels)\n",
    "Model (CNN with MaxPooling Layers) (4 node/dimension output with Softmax Activation Layer)\n",
    "Loss= Categorical Cross Entropy"
   ]
  },
  {
   "cell_type": "markdown",
   "metadata": {},
   "source": [
    "# 2.0 Import Libraries"
   ]
  },
  {
   "cell_type": "code",
   "execution_count": 153,
   "metadata": {},
   "outputs": [
    {
     "name": "stdout",
     "output_type": "stream",
     "text": [
      "1.13.1\n"
     ]
    }
   ],
   "source": [
    "# TensorFlow and tf.keras\n",
    "import tensorflow as tf\n",
    "from tensorflow import keras\n",
    "\n",
    "# Helper libraries\n",
    "import numpy as np\n",
    "import matplotlib.pyplot as plt\n",
    "from pathlib import Path\n",
    "import os\n",
    "\n",
    "print(tf.__version__)"
   ]
  },
  {
   "cell_type": "markdown",
   "metadata": {},
   "source": [
    "# 3.0 Download Data & Setup Directory Paths"
   ]
  },
  {
   "cell_type": "code",
   "execution_count": 154,
   "metadata": {},
   "outputs": [
    {
     "data": {
      "text/plain": [
       "PosixPath('/')"
      ]
     },
     "execution_count": 154,
     "metadata": {},
     "output_type": "execute_result"
    }
   ],
   "source": [
    "Path.cwd()"
   ]
  },
  {
   "cell_type": "code",
   "execution_count": 155,
   "metadata": {},
   "outputs": [
    {
     "data": {
      "text/plain": [
       "PosixPath('/home/jupyter')"
      ]
     },
     "execution_count": 155,
     "metadata": {},
     "output_type": "execute_result"
    }
   ],
   "source": [
    "Path.home()"
   ]
  },
  {
   "cell_type": "code",
   "execution_count": 156,
   "metadata": {},
   "outputs": [],
   "source": [
    "PATH = Path('county-image-classifier')"
   ]
  },
  {
   "cell_type": "code",
   "execution_count": 157,
   "metadata": {},
   "outputs": [],
   "source": [
    "train_dir = str(Path.home() / 'county-image-classifier' / 'data' / 'raw' / 'train')\n",
    "validation_dir = str(Path.home() / 'county-image-classifier' / 'data' / 'raw' / 'validation')\n",
    "test_dir = str(Path.home() / 'county-image-classifier' / 'data' / 'raw' / 'test')\n"
   ]
  },
  {
   "cell_type": "code",
   "execution_count": 158,
   "metadata": {},
   "outputs": [],
   "source": [
    "save_model_dir = str(Path.home() / 'county-image-classifier' / 'notebooks')"
   ]
  },
  {
   "cell_type": "markdown",
   "metadata": {},
   "source": [
    "# 4.0 Build the Network"
   ]
  },
  {
   "cell_type": "code",
   "execution_count": 159,
   "metadata": {},
   "outputs": [],
   "source": [
    "from keras import layers\n",
    "from keras import models"
   ]
  },
  {
   "cell_type": "code",
   "execution_count": 160,
   "metadata": {},
   "outputs": [],
   "source": [
    "model= models.Sequential()\n",
    "\n",
    "model.add(layers.Conv2D(32, (3, 3), activation='relu', input_shape=(300, 300, 3)))\n",
    "model.add(layers.MaxPooling2D((2,2)))\n",
    "\n",
    "model.add(layers.Conv2D(64, (3, 3), activation='relu'))\n",
    "model.add(layers.MaxPooling2D((2,2)))\n",
    "\n",
    "model.add(layers.Conv2D(128, (3, 3), activation='relu'))\n",
    "model.add(layers.MaxPooling2D((2,2)))\n",
    "\n",
    "model.add(layers.Conv2D(128, (3, 3), activation='relu'))\n",
    "model.add(layers.MaxPooling2D((2,2)))\n",
    "\n",
    "model.add(layers.Flatten())\n",
    "model.add(layers.Dense(512, activation='relu'))\n",
    "model.add(layers.Dense(4, activation='softmax'))"
   ]
  },
  {
   "cell_type": "code",
   "execution_count": 161,
   "metadata": {},
   "outputs": [
    {
     "name": "stdout",
     "output_type": "stream",
     "text": [
      "_________________________________________________________________\n",
      "Layer (type)                 Output Shape              Param #   \n",
      "=================================================================\n",
      "conv2d_29 (Conv2D)           (None, 298, 298, 32)      896       \n",
      "_________________________________________________________________\n",
      "max_pooling2d_29 (MaxPooling (None, 149, 149, 32)      0         \n",
      "_________________________________________________________________\n",
      "conv2d_30 (Conv2D)           (None, 147, 147, 64)      18496     \n",
      "_________________________________________________________________\n",
      "max_pooling2d_30 (MaxPooling (None, 73, 73, 64)        0         \n",
      "_________________________________________________________________\n",
      "conv2d_31 (Conv2D)           (None, 71, 71, 128)       73856     \n",
      "_________________________________________________________________\n",
      "max_pooling2d_31 (MaxPooling (None, 35, 35, 128)       0         \n",
      "_________________________________________________________________\n",
      "conv2d_32 (Conv2D)           (None, 33, 33, 128)       147584    \n",
      "_________________________________________________________________\n",
      "max_pooling2d_32 (MaxPooling (None, 16, 16, 128)       0         \n",
      "_________________________________________________________________\n",
      "flatten_8 (Flatten)          (None, 32768)             0         \n",
      "_________________________________________________________________\n",
      "dense_15 (Dense)             (None, 512)               16777728  \n",
      "_________________________________________________________________\n",
      "dense_16 (Dense)             (None, 4)                 2052      \n",
      "=================================================================\n",
      "Total params: 17,020,612\n",
      "Trainable params: 17,020,612\n",
      "Non-trainable params: 0\n",
      "_________________________________________________________________\n"
     ]
    }
   ],
   "source": [
    "model.summary()"
   ]
  },
  {
   "cell_type": "markdown",
   "metadata": {},
   "source": [
    "# 4.0 Compile & Run Model"
   ]
  },
  {
   "cell_type": "code",
   "execution_count": 162,
   "metadata": {},
   "outputs": [],
   "source": [
    "from keras import optimizers\n",
    "\n",
    "model.compile(\n",
    "    loss='categorical_crossentropy',\n",
    "    optimizer= optimizers.RMSprop(lr=0.0001),\n",
    "    metrics =['acc'])"
   ]
  },
  {
   "cell_type": "markdown",
   "metadata": {},
   "source": [
    "# 5.0 Data Preprocessing"
   ]
  },
  {
   "cell_type": "code",
   "execution_count": 163,
   "metadata": {},
   "outputs": [],
   "source": [
    "from keras.preprocessing.image import ImageDataGenerator\n",
    "\n",
    "#All images will be rescaled by 1./255\n",
    "train_datagen = ImageDataGenerator(\n",
    "    rescale=1./255,\n",
    "    rotation_range=40,\n",
    "    width_shift_range=0.2,\n",
    "    height_shift_range=0.2,\n",
    "    shear_range=0.2,\n",
    "    zoom_range=0.2,\n",
    "    horizontal_flip=True\n",
    ")\n",
    "\n",
    "validation_datagen = ImageDataGenerator(rescale=1./255)"
   ]
  },
  {
   "cell_type": "code",
   "execution_count": 164,
   "metadata": {},
   "outputs": [
    {
     "name": "stdout",
     "output_type": "stream",
     "text": [
      "Found 990 images belonging to 4 classes.\n"
     ]
    }
   ],
   "source": [
    "#Flow training images in batches of 50 using train_datagen generator\n",
    "train_generator = train_datagen.flow_from_directory(\n",
    "    train_dir,\n",
    "    target_size=(300, 300),\n",
    "    batch_size = 10,\n",
    "    class_mode='categorical',\n",
    "    color_mode='rgb',\n",
    ")"
   ]
  },
  {
   "cell_type": "code",
   "execution_count": 165,
   "metadata": {},
   "outputs": [
    {
     "name": "stdout",
     "output_type": "stream",
     "text": [
      "Found 176 images belonging to 4 classes.\n"
     ]
    }
   ],
   "source": [
    "#Flow validation images in batches of 10 using validation_datagen generator\n",
    "\n",
    "validation_generator = validation_datagen.flow_from_directory(\n",
    "    validation_dir,\n",
    "    target_size=(300, 300),\n",
    "    batch_size = 10,\n",
    "    class_mode='categorical',\n",
    "    color_mode='rgb',\n",
    ")"
   ]
  },
  {
   "cell_type": "markdown",
   "metadata": {},
   "source": [
    "# 6.0 Fitting the Model Using Batch Generator"
   ]
  },
  {
   "cell_type": "code",
   "execution_count": 166,
   "metadata": {},
   "outputs": [
    {
     "name": "stdout",
     "output_type": "stream",
     "text": [
      "Epoch 1/16\n",
      " - 47s - loss: 1.2970 - acc: 0.3710 - val_loss: 1.1339 - val_acc: 0.5000\n",
      "Epoch 2/16\n",
      " - 47s - loss: 1.0422 - acc: 0.5450 - val_loss: 0.8609 - val_acc: 0.6837\n",
      "Epoch 3/16\n",
      " - 45s - loss: 0.8745 - acc: 0.6650 - val_loss: 0.7073 - val_acc: 0.7194\n",
      "Epoch 4/16\n",
      " - 47s - loss: 0.7738 - acc: 0.7080 - val_loss: 0.8468 - val_acc: 0.6480\n",
      "Epoch 5/16\n",
      " - 43s - loss: 0.7479 - acc: 0.7270 - val_loss: 0.7158 - val_acc: 0.7449\n",
      "Epoch 6/16\n",
      " - 47s - loss: 0.6939 - acc: 0.7580 - val_loss: 0.5297 - val_acc: 0.8214\n",
      "Epoch 7/16\n",
      " - 48s - loss: 0.6432 - acc: 0.7820 - val_loss: 0.3850 - val_acc: 0.9031\n",
      "Epoch 8/16\n",
      " - 44s - loss: 0.5756 - acc: 0.8070 - val_loss: 0.3732 - val_acc: 0.9082\n",
      "Epoch 9/16\n",
      " - 47s - loss: 0.6149 - acc: 0.8050 - val_loss: 0.3933 - val_acc: 0.8958\n",
      "Epoch 10/16\n",
      " - 44s - loss: 0.5404 - acc: 0.8210 - val_loss: 0.3298 - val_acc: 0.8980\n",
      "Epoch 11/16\n",
      " - 45s - loss: 0.5497 - acc: 0.8230 - val_loss: 0.3693 - val_acc: 0.8827\n",
      "Epoch 12/16\n",
      " - 44s - loss: 0.5461 - acc: 0.8310 - val_loss: 0.3525 - val_acc: 0.8827\n",
      "Epoch 13/16\n",
      " - 48s - loss: 0.5283 - acc: 0.8380 - val_loss: 0.3623 - val_acc: 0.8827\n",
      "Epoch 14/16\n",
      " - 45s - loss: 0.4972 - acc: 0.8470 - val_loss: 0.3125 - val_acc: 0.9133\n",
      "Epoch 15/16\n",
      " - 46s - loss: 0.5117 - acc: 0.8340 - val_loss: 0.2981 - val_acc: 0.9133\n",
      "Epoch 16/16\n",
      " - 45s - loss: 0.4765 - acc: 0.8430 - val_loss: 0.2811 - val_acc: 0.8980\n"
     ]
    }
   ],
   "source": [
    "history = model.fit_generator(\n",
    "    train_generator,\n",
    "    steps_per_epoch=100,\n",
    "    epochs=16,\n",
    "    validation_data=validation_generator,\n",
    "    validation_steps=20,\n",
    "    verbose=2\n",
    ")"
   ]
  },
  {
   "cell_type": "code",
   "execution_count": 167,
   "metadata": {},
   "outputs": [],
   "source": [
    "model.save(save_model_dir + '/county_classifier_6_aug_cap_epoch.h5')"
   ]
  },
  {
   "cell_type": "markdown",
   "metadata": {},
   "source": [
    "# 7.0 Plot Results"
   ]
  },
  {
   "cell_type": "code",
   "execution_count": 168,
   "metadata": {},
   "outputs": [
    {
     "data": {
      "image/png": "[encoded data removed]",
      "text/plain": [
       "<Figure size 432x288 with 1 Axes>"
      ]
     },
     "metadata": {
      "needs_background": "light"
     },
     "output_type": "display_data"
    },
    {
     "data": {
      "image/png": "[encoded data removed]",
      "text/plain": [
       "<Figure size 432x288 with 1 Axes>"
      ]
     },
     "metadata": {
      "needs_background": "light"
     },
     "output_type": "display_data"
    }
   ],
   "source": [
    "import matplotlib.pyplot as plt\n",
    "\n",
    "acc = history.history['acc']\n",
    "val_acc = history.history['val_acc']\n",
    "loss = history.history['loss']\n",
    "val_loss = history.history['val_loss']\n",
    "\n",
    "epochs = range(1, len(acc) + 1)\n",
    "\n",
    "plt.plot(epochs, acc, 'bo', label='Training acc')\n",
    "plt.plot(epochs, val_acc, 'b', label='Validation acc')\n",
    "plt.title('Training & Validation Accuracy')\n",
    "plt.legend()\n",
    "plt.figure()\n",
    "\n",
    "plt.plot(epochs, loss, 'bo', label='Training Loss')\n",
    "plt.plot(epochs, val_loss, 'b', label='Validation Loss')\n",
    "plt.title('Training & Validation Loss')\n",
    "plt.legend()\n",
    "plt.show()"
   ]
  },
  {
   "cell_type": "markdown",
   "metadata": {},
   "source": [
    "# 7.0 Model Debugging"
   ]
  },
  {
   "cell_type": "code",
   "execution_count": 169,
   "metadata": {},
   "outputs": [],
   "source": [
    "from sklearn.metrics import classification_report, confusion_matrix"
   ]
  },
  {
   "cell_type": "code",
   "execution_count": 170,
   "metadata": {},
   "outputs": [],
   "source": [
    "true_classes = validation_generator.classes"
   ]
  },
  {
   "cell_type": "code",
   "execution_count": 171,
   "metadata": {},
   "outputs": [
    {
     "data": {
      "text/plain": [
       "['mayo', 'galway', 'kerry', 'dublin']"
      ]
     },
     "execution_count": 171,
     "metadata": {},
     "output_type": "execute_result"
    }
   ],
   "source": [
    "class_labels = list(validation_generator.class_indices.keys())  \n",
    "class_labels"
   ]
  },
  {
   "cell_type": "code",
   "execution_count": 172,
   "metadata": {},
   "outputs": [
    {
     "name": "stdout",
     "output_type": "stream",
     "text": [
      "Confusion Matrix\n",
      "[[15  8 10 15]\n",
      " [11 11 14  9]\n",
      " [14 12  5 10]\n",
      " [11  7 12 12]]\n",
      "Classification Report\n",
      "              precision    recall  f1-score   support\n",
      "\n",
      "        mayo       0.29      0.31      0.30        48\n",
      "      galway       0.29      0.24      0.27        45\n",
      "       kerry       0.12      0.12      0.12        41\n",
      "      dublin       0.26      0.29      0.27        42\n",
      "\n",
      "   micro avg       0.24      0.24      0.24       176\n",
      "   macro avg       0.24      0.24      0.24       176\n",
      "weighted avg       0.24      0.24      0.24       176\n",
      "\n"
     ]
    }
   ],
   "source": [
    "#Confution Matrix and Classification Report\n",
    "\n",
    "#Generates predictions for the input samples from a data generator.\n",
    "\n",
    "test_steps_per_epoch = np.math.ceil(validation_generator.samples / validation_generator.batch_size)\n",
    "\n",
    "Y_pred = model.predict_generator(validation_generator, steps=test_steps_per_epoch)\n",
    "y_pred = np.argmax(Y_pred, axis=1)\n",
    "\n",
    "print('Confusion Matrix')\n",
    "print(confusion_matrix(true_classes, y_pred))\n",
    "\n",
    "\n",
    "print('Classification Report')\n",
    "print(classification_report(true_classes, y_pred, target_names=class_labels))"
   ]
  },
  {
   "cell_type": "code",
   "execution_count": null,
   "metadata": {},
   "outputs": [],
   "source": []
  },
  {
   "cell_type": "code",
   "execution_count": null,
   "metadata": {},
   "outputs": [],
   "source": []
  }
 ],
 "metadata": {
  "kernelspec": {
   "display_name": "Python 3",
   "language": "python",
   "name": "python3"
  },
  "language_info": {
   "codemirror_mode": {
    "name": "ipython",
    "version": 3
   },
   "file_extension": ".py",
   "mimetype": "text/x-python",
   "name": "python",
   "nbconvert_exporter": "python",
   "pygments_lexer": "ipython3",
   "version": "3.5.3"
  }
 },
 "nbformat": 4,
 "nbformat_minor": 2
}
